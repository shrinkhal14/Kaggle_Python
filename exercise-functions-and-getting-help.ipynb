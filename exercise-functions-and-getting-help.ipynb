{
 "cells": [
  {
   "cell_type": "markdown",
   "id": "4cf44842",
   "metadata": {
    "papermill": {
     "duration": 0.004793,
     "end_time": "2025-03-25T18:35:57.438598",
     "exception": false,
     "start_time": "2025-03-25T18:35:57.433805",
     "status": "completed"
    },
    "tags": []
   },
   "source": [
    "**This notebook is an exercise in the [Python](https://www.kaggle.com/learn/python) course.  You can reference the tutorial at [this link](https://www.kaggle.com/colinmorris/functions-and-getting-help).**\n",
    "\n",
    "---\n"
   ]
  },
  {
   "cell_type": "markdown",
   "id": "f14cfe8e",
   "metadata": {
    "papermill": {
     "duration": 0.003585,
     "end_time": "2025-03-25T18:35:57.446325",
     "exception": false,
     "start_time": "2025-03-25T18:35:57.442740",
     "status": "completed"
    },
    "tags": []
   },
   "source": [
    "Functions are powerful. Try writing some yourself.\n",
    "\n",
    "As before, don't forget to run the setup code below before jumping into question 1."
   ]
  },
  {
   "cell_type": "code",
   "execution_count": 1,
   "id": "6eb0c86f",
   "metadata": {
    "_kg_hide-input": true,
    "_kg_hide-output": true,
    "execution": {
     "iopub.execute_input": "2025-03-25T18:35:57.455982Z",
     "iopub.status.busy": "2025-03-25T18:35:57.455637Z",
     "iopub.status.idle": "2025-03-25T18:35:58.480377Z",
     "shell.execute_reply": "2025-03-25T18:35:58.479057Z"
    },
    "papermill": {
     "duration": 1.031804,
     "end_time": "2025-03-25T18:35:58.482102",
     "exception": false,
     "start_time": "2025-03-25T18:35:57.450298",
     "status": "completed"
    },
    "tags": []
   },
   "outputs": [
    {
     "name": "stdout",
     "output_type": "stream",
     "text": [
      "Setup complete.\n"
     ]
    }
   ],
   "source": [
    "# SETUP. You don't need to worry for now about what this code does or how it works.\n",
    "from learntools.core import binder; binder.bind(globals())\n",
    "from learntools.python.ex2 import *\n",
    "print('Setup complete.')"
   ]
  },
  {
   "cell_type": "markdown",
   "id": "829988a7",
   "metadata": {
    "papermill": {
     "duration": 0.003848,
     "end_time": "2025-03-25T18:35:58.490167",
     "exception": false,
     "start_time": "2025-03-25T18:35:58.486319",
     "status": "completed"
    },
    "tags": []
   },
   "source": [
    "# 1.\n",
    "\n",
    "Complete the body of the following function according to its docstring.\n",
    "\n",
    "HINT: Python has a built-in function `round`."
   ]
  },
  {
   "cell_type": "code",
   "execution_count": 2,
   "id": "9bd13c39",
   "metadata": {
    "execution": {
     "iopub.execute_input": "2025-03-25T18:35:58.499499Z",
     "iopub.status.busy": "2025-03-25T18:35:58.498973Z",
     "iopub.status.idle": "2025-03-25T18:35:58.508026Z",
     "shell.execute_reply": "2025-03-25T18:35:58.507010Z"
    },
    "papermill": {
     "duration": 0.01545,
     "end_time": "2025-03-25T18:35:58.509577",
     "exception": false,
     "start_time": "2025-03-25T18:35:58.494127",
     "status": "completed"
    },
    "tags": []
   },
   "outputs": [
    {
     "data": {
      "application/javascript": [
       "parent.postMessage({\"jupyterEvent\": \"custom.exercise_interaction\", \"data\": {\"outcomeType\": 1, \"valueTowardsCompletion\": 0.16666666666666666, \"interactionType\": 1, \"questionType\": 2, \"questionId\": \"1_RoundFunctionProblem\", \"learnToolsVersion\": \"0.3.4\", \"failureMessage\": \"\", \"exceptionClass\": \"\", \"trace\": \"\"}}, \"*\")"
      ],
      "text/plain": [
       "<IPython.core.display.Javascript object>"
      ]
     },
     "metadata": {},
     "output_type": "display_data"
    },
    {
     "data": {
      "text/markdown": [
       "<span style=\"color:#33cc33\">Correct</span>"
      ],
      "text/plain": [
       "Correct"
      ]
     },
     "metadata": {},
     "output_type": "display_data"
    }
   ],
   "source": [
    "def round_to_two_places(num):\n",
    "    \"\"\"Return the given number rounded to two decimal places. \n",
    "    \n",
    "    >>> round_to_two_places(3.14159)\n",
    "    3.14\n",
    "    \"\"\"\n",
    "    return round(num,2)\n",
    "    # (\"pass\" is a keyword that does literally nothing. We used it as a placeholder\n",
    "    # because after we begin a code block, Python requires at least one line of code)\n",
    "    pass\n",
    "\n",
    "# Check your answer\n",
    "q1.check()"
   ]
  },
  {
   "cell_type": "code",
   "execution_count": 3,
   "id": "cb400754",
   "metadata": {
    "execution": {
     "iopub.execute_input": "2025-03-25T18:35:58.519587Z",
     "iopub.status.busy": "2025-03-25T18:35:58.519196Z",
     "iopub.status.idle": "2025-03-25T18:35:58.529308Z",
     "shell.execute_reply": "2025-03-25T18:35:58.528331Z"
    },
    "papermill": {
     "duration": 0.017079,
     "end_time": "2025-03-25T18:35:58.530938",
     "exception": false,
     "start_time": "2025-03-25T18:35:58.513859",
     "status": "completed"
    },
    "tags": []
   },
   "outputs": [
    {
     "data": {
      "application/javascript": [
       "parent.postMessage({\"jupyterEvent\": \"custom.exercise_interaction\", \"data\": {\"interactionType\": 2, \"questionType\": 2, \"questionId\": \"1_RoundFunctionProblem\", \"learnToolsVersion\": \"0.3.4\", \"valueTowardsCompletion\": 0.0, \"failureMessage\": \"\", \"exceptionClass\": \"\", \"trace\": \"\", \"outcomeType\": 4}}, \"*\")"
      ],
      "text/plain": [
       "<IPython.core.display.Javascript object>"
      ]
     },
     "metadata": {},
     "output_type": "display_data"
    },
    {
     "data": {
      "text/markdown": [
       "<span style=\"color:#3366cc\">Hint:</span> Run `help(round)` in the console (or in a code cell) to learn more about the round function. You'll need to use the function's optional second argument."
      ],
      "text/plain": [
       "Hint: Run `help(round)` in the console (or in a code cell) to learn more about the round function. You'll need to use the function's optional second argument."
      ]
     },
     "metadata": {},
     "output_type": "display_data"
    },
    {
     "data": {
      "application/javascript": [
       "parent.postMessage({\"jupyterEvent\": \"custom.exercise_interaction\", \"data\": {\"interactionType\": 3, \"questionType\": 2, \"questionId\": \"1_RoundFunctionProblem\", \"learnToolsVersion\": \"0.3.4\", \"valueTowardsCompletion\": 0.0, \"failureMessage\": \"\", \"exceptionClass\": \"\", \"trace\": \"\", \"outcomeType\": 4}}, \"*\")"
      ],
      "text/plain": [
       "<IPython.core.display.Javascript object>"
      ]
     },
     "metadata": {},
     "output_type": "display_data"
    },
    {
     "data": {
      "text/markdown": [
       "<span style=\"color:#33cc99\">Solution:</span> \n",
       "```python\n",
       "return round(num, 2)\n",
       "```"
      ],
      "text/plain": [
       "Solution: \n",
       "```python\n",
       "return round(num, 2)\n",
       "```"
      ]
     },
     "metadata": {},
     "output_type": "display_data"
    }
   ],
   "source": [
    "# Uncomment the following for a hint\n",
    "q1.hint()\n",
    "# Or uncomment the following to peek at the solution\n",
    "q1.solution()"
   ]
  },
  {
   "cell_type": "markdown",
   "id": "02793349",
   "metadata": {
    "papermill": {
     "duration": 0.004693,
     "end_time": "2025-03-25T18:35:58.540414",
     "exception": false,
     "start_time": "2025-03-25T18:35:58.535721",
     "status": "completed"
    },
    "tags": []
   },
   "source": [
    "# 2.\n",
    "The help for `round` says that `ndigits` (the second argument) may be negative.\n",
    "What do you think will happen when it is? Try some examples in the following cell."
   ]
  },
  {
   "cell_type": "code",
   "execution_count": 4,
   "id": "b8187810",
   "metadata": {
    "execution": {
     "iopub.execute_input": "2025-03-25T18:35:58.551089Z",
     "iopub.status.busy": "2025-03-25T18:35:58.550713Z",
     "iopub.status.idle": "2025-03-25T18:35:58.555902Z",
     "shell.execute_reply": "2025-03-25T18:35:58.554757Z"
    },
    "papermill": {
     "duration": 0.012382,
     "end_time": "2025-03-25T18:35:58.557567",
     "exception": false,
     "start_time": "2025-03-25T18:35:58.545185",
     "status": "completed"
    },
    "tags": []
   },
   "outputs": [
    {
     "name": "stdout",
     "output_type": "stream",
     "text": [
      "9000.0\n"
     ]
    }
   ],
   "source": [
    "# Put your test code here\n",
    "num = round(9000.312,-1)\n",
    "print(num)"
   ]
  },
  {
   "cell_type": "markdown",
   "id": "14725819",
   "metadata": {
    "papermill": {
     "duration": 0.004432,
     "end_time": "2025-03-25T18:35:58.566921",
     "exception": false,
     "start_time": "2025-03-25T18:35:58.562489",
     "status": "completed"
    },
    "tags": []
   },
   "source": [
    "Can you think of a case where this would be useful?  Once you're ready, run the code cell below to see the answer and to receive credit for completing the problem."
   ]
  },
  {
   "cell_type": "code",
   "execution_count": 5,
   "id": "8e06f685",
   "metadata": {
    "execution": {
     "iopub.execute_input": "2025-03-25T18:35:58.577488Z",
     "iopub.status.busy": "2025-03-25T18:35:58.577099Z",
     "iopub.status.idle": "2025-03-25T18:35:58.584457Z",
     "shell.execute_reply": "2025-03-25T18:35:58.583437Z"
    },
    "papermill": {
     "duration": 0.01454,
     "end_time": "2025-03-25T18:35:58.586089",
     "exception": false,
     "start_time": "2025-03-25T18:35:58.571549",
     "status": "completed"
    },
    "tags": []
   },
   "outputs": [
    {
     "data": {
      "application/javascript": [
       "parent.postMessage({\"jupyterEvent\": \"custom.exercise_interaction\", \"data\": {\"interactionType\": 3, \"questionType\": 4, \"questionId\": \"2_RoundNdigitsProblem\", \"learnToolsVersion\": \"0.3.4\", \"valueTowardsCompletion\": 0.0, \"failureMessage\": \"\", \"exceptionClass\": \"\", \"trace\": \"\", \"outcomeType\": 4}}, \"*\")"
      ],
      "text/plain": [
       "<IPython.core.display.Javascript object>"
      ]
     },
     "metadata": {},
     "output_type": "display_data"
    },
    {
     "data": {
      "text/markdown": [
       "<span style=\"color:#33cc99\">Solution:</span> As you've seen, `ndigits=-1` rounds to the nearest 10, `ndigits=-2` rounds to the nearest 100 and so on. Where might this be useful? Suppose we're dealing with large numbers:\n",
       "\n",
       "> The area of Finland is 338,424 km²  \n",
       "> The area of Greenland is 2,166,086 km²\n",
       "\n",
       "We probably don't care whether it's really 338,424, or 338,425, or 338,177. All those digits of accuracy are just distracting. We can chop them off by calling `round()` with `ndigits=-3`:\n",
       "\n",
       "> The area of Finland is 338,000 km²  \n",
       "> The area of Greenland is 2,166,000 km²\n",
       "\n",
       "(We'll talk about how we would get the commas later when we talk about string formatting :))\n"
      ],
      "text/plain": [
       "Solution: As you've seen, `ndigits=-1` rounds to the nearest 10, `ndigits=-2` rounds to the nearest 100 and so on. Where might this be useful? Suppose we're dealing with large numbers:\n",
       "\n",
       "> The area of Finland is 338,424 km²  \n",
       "> The area of Greenland is 2,166,086 km²\n",
       "\n",
       "We probably don't care whether it's really 338,424, or 338,425, or 338,177. All those digits of accuracy are just distracting. We can chop them off by calling `round()` with `ndigits=-3`:\n",
       "\n",
       "> The area of Finland is 338,000 km²  \n",
       "> The area of Greenland is 2,166,000 km²\n",
       "\n",
       "(We'll talk about how we would get the commas later when we talk about string formatting :))"
      ]
     },
     "metadata": {},
     "output_type": "display_data"
    }
   ],
   "source": [
    "# Check your answer (Run this code cell to receive credit!)\n",
    "q2.solution()"
   ]
  },
  {
   "cell_type": "markdown",
   "id": "0d114590",
   "metadata": {
    "papermill": {
     "duration": 0.004661,
     "end_time": "2025-03-25T18:35:58.595885",
     "exception": false,
     "start_time": "2025-03-25T18:35:58.591224",
     "status": "completed"
    },
    "tags": []
   },
   "source": [
    "# 3.\n",
    "\n",
    "In the previous exercise, the candy-sharing friends Alice, Bob and Carol tried to split candies evenly. For the sake of their friendship, any candies left over would be smashed. For example, if they collectively bring home 91 candies, they'll take 30 each and smash 1.\n",
    "\n",
    "Below is a simple function that will calculate the number of candies to smash for *any* number of total candies.\n",
    "\n",
    "Modify it so that it optionally takes a second argument representing the number of friends the candies are being split between. If no second argument is provided, it should assume 3 friends, as before.\n",
    "\n",
    "Update the docstring to reflect this new behaviour."
   ]
  },
  {
   "cell_type": "code",
   "execution_count": 6,
   "id": "46fc060a",
   "metadata": {
    "execution": {
     "iopub.execute_input": "2025-03-25T18:35:58.607243Z",
     "iopub.status.busy": "2025-03-25T18:35:58.606890Z",
     "iopub.status.idle": "2025-03-25T18:35:58.614527Z",
     "shell.execute_reply": "2025-03-25T18:35:58.613435Z"
    },
    "papermill": {
     "duration": 0.015249,
     "end_time": "2025-03-25T18:35:58.616126",
     "exception": false,
     "start_time": "2025-03-25T18:35:58.600877",
     "status": "completed"
    },
    "tags": []
   },
   "outputs": [
    {
     "data": {
      "application/javascript": [
       "parent.postMessage({\"jupyterEvent\": \"custom.exercise_interaction\", \"data\": {\"outcomeType\": 1, \"valueTowardsCompletion\": 0.16666666666666666, \"interactionType\": 1, \"questionType\": 2, \"questionId\": \"3_CandySmashingFunctionProblem\", \"learnToolsVersion\": \"0.3.4\", \"failureMessage\": \"\", \"exceptionClass\": \"\", \"trace\": \"\"}}, \"*\")"
      ],
      "text/plain": [
       "<IPython.core.display.Javascript object>"
      ]
     },
     "metadata": {},
     "output_type": "display_data"
    },
    {
     "data": {
      "text/markdown": [
       "<span style=\"color:#33cc33\">Correct</span>"
      ],
      "text/plain": [
       "Correct"
      ]
     },
     "metadata": {},
     "output_type": "display_data"
    }
   ],
   "source": [
    "def to_smash(total_candies,n_friends=3):\n",
    "    \"\"\"Return the number of leftover candies that must be smashed after distributing\n",
    "    the given number of candies evenly between 3 friends.\n",
    "    \n",
    "    >>> to_smash(91)\n",
    "    1\n",
    "    \"\"\"\n",
    "    \n",
    "    return total_candies%n_friends\n",
    "\n",
    "# Check your answer\n",
    "q3.check()"
   ]
  },
  {
   "cell_type": "code",
   "execution_count": 7,
   "id": "3375eb9e",
   "metadata": {
    "execution": {
     "iopub.execute_input": "2025-03-25T18:35:58.627563Z",
     "iopub.status.busy": "2025-03-25T18:35:58.627121Z",
     "iopub.status.idle": "2025-03-25T18:35:58.630949Z",
     "shell.execute_reply": "2025-03-25T18:35:58.630071Z"
    },
    "papermill": {
     "duration": 0.011254,
     "end_time": "2025-03-25T18:35:58.632597",
     "exception": false,
     "start_time": "2025-03-25T18:35:58.621343",
     "status": "completed"
    },
    "tags": []
   },
   "outputs": [],
   "source": [
    "#q3.hint()"
   ]
  },
  {
   "cell_type": "code",
   "execution_count": 8,
   "id": "e4fde7e4",
   "metadata": {
    "execution": {
     "iopub.execute_input": "2025-03-25T18:35:58.644404Z",
     "iopub.status.busy": "2025-03-25T18:35:58.644020Z",
     "iopub.status.idle": "2025-03-25T18:35:58.651493Z",
     "shell.execute_reply": "2025-03-25T18:35:58.650474Z"
    },
    "papermill": {
     "duration": 0.015178,
     "end_time": "2025-03-25T18:35:58.653062",
     "exception": false,
     "start_time": "2025-03-25T18:35:58.637884",
     "status": "completed"
    },
    "tags": []
   },
   "outputs": [
    {
     "data": {
      "application/javascript": [
       "parent.postMessage({\"jupyterEvent\": \"custom.exercise_interaction\", \"data\": {\"interactionType\": 3, \"questionType\": 2, \"questionId\": \"3_CandySmashingFunctionProblem\", \"learnToolsVersion\": \"0.3.4\", \"valueTowardsCompletion\": 0.0, \"failureMessage\": \"\", \"exceptionClass\": \"\", \"trace\": \"\", \"outcomeType\": 4}}, \"*\")"
      ],
      "text/plain": [
       "<IPython.core.display.Javascript object>"
      ]
     },
     "metadata": {},
     "output_type": "display_data"
    },
    {
     "data": {
      "text/markdown": [
       "<span style=\"color:#33cc99\">Solution:</span> \n",
       "```python\n",
       "def to_smash(total_candies, n_friends=3):\n",
       "    return total_candies % n_friends\n",
       "```"
      ],
      "text/plain": [
       "Solution: \n",
       "```python\n",
       "def to_smash(total_candies, n_friends=3):\n",
       "    return total_candies % n_friends\n",
       "```"
      ]
     },
     "metadata": {},
     "output_type": "display_data"
    }
   ],
   "source": [
    "q3.solution()"
   ]
  },
  {
   "cell_type": "markdown",
   "id": "5dcc4f99",
   "metadata": {
    "papermill": {
     "duration": 0.00515,
     "end_time": "2025-03-25T18:35:58.663865",
     "exception": false,
     "start_time": "2025-03-25T18:35:58.658715",
     "status": "completed"
    },
    "tags": []
   },
   "source": [
    "# 4. (Optional)\n",
    "\n",
    "It may not be fun, but reading and understanding error messages will be an important part of your Python career.\n",
    "\n",
    "Each code cell below contains some commented buggy code. For each cell...\n",
    "\n",
    "1. Read the code and predict what you think will happen when it's run.\n",
    "2. Then uncomment the code and run it to see what happens. (**Tip**: In the kernel editor, you can highlight several lines and press `ctrl`+`/` to toggle commenting.)\n",
    "3. Fix the code (so that it accomplishes its intended purpose without throwing an exception)\n",
    "\n",
    "<!-- TODO: should this be autochecked? Delta is probably pretty small. -->"
   ]
  },
  {
   "cell_type": "code",
   "execution_count": 9,
   "id": "ad628e35",
   "metadata": {
    "execution": {
     "iopub.execute_input": "2025-03-25T18:35:58.675922Z",
     "iopub.status.busy": "2025-03-25T18:35:58.675566Z",
     "iopub.status.idle": "2025-03-25T18:35:58.679578Z",
     "shell.execute_reply": "2025-03-25T18:35:58.678530Z"
    },
    "papermill": {
     "duration": 0.012097,
     "end_time": "2025-03-25T18:35:58.681261",
     "exception": false,
     "start_time": "2025-03-25T18:35:58.669164",
     "status": "completed"
    },
    "tags": []
   },
   "outputs": [],
   "source": [
    "# ruound_to_two_places(9.9999)"
   ]
  },
  {
   "cell_type": "code",
   "execution_count": 10,
   "id": "ddff079b",
   "metadata": {
    "execution": {
     "iopub.execute_input": "2025-03-25T18:35:58.693505Z",
     "iopub.status.busy": "2025-03-25T18:35:58.693077Z",
     "iopub.status.idle": "2025-03-25T18:35:58.696792Z",
     "shell.execute_reply": "2025-03-25T18:35:58.695743Z"
    },
    "papermill": {
     "duration": 0.011586,
     "end_time": "2025-03-25T18:35:58.698462",
     "exception": false,
     "start_time": "2025-03-25T18:35:58.686876",
     "status": "completed"
    },
    "tags": []
   },
   "outputs": [],
   "source": [
    "# x = -10\n",
    "# y = 5\n",
    "# # Which of the two variables above has the smallest absolute value?\n",
    "# smallest_abs = min(abs(x, y))"
   ]
  },
  {
   "cell_type": "code",
   "execution_count": 11,
   "id": "8d21a2c3",
   "metadata": {
    "execution": {
     "iopub.execute_input": "2025-03-25T18:35:58.710872Z",
     "iopub.status.busy": "2025-03-25T18:35:58.710521Z",
     "iopub.status.idle": "2025-03-25T18:35:58.714302Z",
     "shell.execute_reply": "2025-03-25T18:35:58.713284Z"
    },
    "papermill": {
     "duration": 0.011897,
     "end_time": "2025-03-25T18:35:58.715969",
     "exception": false,
     "start_time": "2025-03-25T18:35:58.704072",
     "status": "completed"
    },
    "tags": []
   },
   "outputs": [],
   "source": [
    "# def f(x):\n",
    "#     y = abs(x)\n",
    "# return y\n",
    "\n",
    "# print(f(5))"
   ]
  },
  {
   "cell_type": "markdown",
   "id": "595fb52a",
   "metadata": {
    "papermill": {
     "duration": 0.005284,
     "end_time": "2025-03-25T18:35:58.727016",
     "exception": false,
     "start_time": "2025-03-25T18:35:58.721732",
     "status": "completed"
    },
    "tags": []
   },
   "source": [
    "# Keep Going\n",
    "\n",
    "Nice job with the code. Next up, you'll learn about *conditionals*, which you'll need to **[write interesting programs](https://www.kaggle.com/colinmorris/booleans-and-conditionals)**. "
   ]
  },
  {
   "cell_type": "markdown",
   "id": "b526e42c",
   "metadata": {
    "papermill": {
     "duration": 0.005339,
     "end_time": "2025-03-25T18:35:58.737924",
     "exception": false,
     "start_time": "2025-03-25T18:35:58.732585",
     "status": "completed"
    },
    "tags": []
   },
   "source": [
    "---\n",
    "\n",
    "\n",
    "\n",
    "\n",
    "*Have questions or comments? Visit the [course discussion forum](https://www.kaggle.com/learn/python/discussion) to chat with other learners.*"
   ]
  }
 ],
 "metadata": {
  "kaggle": {
   "accelerator": "none",
   "dataSources": [],
   "isGpuEnabled": false,
   "isInternetEnabled": false,
   "language": "python",
   "sourceType": "notebook"
  },
  "kernelspec": {
   "display_name": "Python 3",
   "language": "python",
   "name": "python3"
  },
  "language_info": {
   "codemirror_mode": {
    "name": "ipython",
    "version": 3
   },
   "file_extension": ".py",
   "mimetype": "text/x-python",
   "name": "python",
   "nbconvert_exporter": "python",
   "pygments_lexer": "ipython3",
   "version": "3.10.12"
  },
  "learntools_metadata": {
   "lesson_index": 1,
   "type": "exercise"
  },
  "papermill": {
   "default_parameters": {},
   "duration": 5.276969,
   "end_time": "2025-03-25T18:35:59.364868",
   "environment_variables": {},
   "exception": null,
   "input_path": "__notebook__.ipynb",
   "output_path": "__notebook__.ipynb",
   "parameters": {},
   "start_time": "2025-03-25T18:35:54.087899",
   "version": "2.6.0"
  }
 },
 "nbformat": 4,
 "nbformat_minor": 5
}
