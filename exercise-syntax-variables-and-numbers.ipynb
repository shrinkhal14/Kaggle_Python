{
 "cells": [
  {
   "cell_type": "markdown",
   "id": "f63353d8",
   "metadata": {
    "papermill": {
     "duration": 0.006037,
     "end_time": "2025-03-25T18:30:46.202130",
     "exception": false,
     "start_time": "2025-03-25T18:30:46.196093",
     "status": "completed"
    },
    "tags": []
   },
   "source": [
    "**This notebook is an exercise in the [Python](https://www.kaggle.com/learn/python) course.  You can reference the tutorial at [this link](https://www.kaggle.com/colinmorris/hello-python).**\n",
    "\n",
    "---\n"
   ]
  },
  {
   "cell_type": "markdown",
   "id": "79c8d534",
   "metadata": {
    "papermill": {
     "duration": 0.005095,
     "end_time": "2025-03-25T18:30:46.212764",
     "exception": false,
     "start_time": "2025-03-25T18:30:46.207669",
     "status": "completed"
    },
    "tags": []
   },
   "source": [
    "Welcome to your first set of Python coding problems.  If this is your first time using Kaggle Notebooks, welcome! \n",
    "\n",
    "Notebooks are composed of blocks (called \"cells\") of text and code. Each of these is editable, though you'll mainly be editing the code cells to answer some questions.\n",
    "\n",
    "To get started, try running the code cell below (by pressing the ► button, or clicking on the cell and pressing ctrl+enter on your keyboard)."
   ]
  },
  {
   "cell_type": "code",
   "execution_count": 1,
   "id": "1827e5ad",
   "metadata": {
    "execution": {
     "iopub.execute_input": "2025-03-25T18:30:46.225028Z",
     "iopub.status.busy": "2025-03-25T18:30:46.224639Z",
     "iopub.status.idle": "2025-03-25T18:30:46.231249Z",
     "shell.execute_reply": "2025-03-25T18:30:46.230267Z"
    },
    "papermill": {
     "duration": 0.014452,
     "end_time": "2025-03-25T18:30:46.232865",
     "exception": false,
     "start_time": "2025-03-25T18:30:46.218413",
     "status": "completed"
    },
    "tags": []
   },
   "outputs": [
    {
     "name": "stdout",
     "output_type": "stream",
     "text": [
      "You've successfully run some Python code\n",
      "Congratulations!\n"
     ]
    }
   ],
   "source": [
    "print(\"You've successfully run some Python code\")\n",
    "print(\"Congratulations!\")"
   ]
  },
  {
   "cell_type": "markdown",
   "id": "b4e9acac",
   "metadata": {
    "papermill": {
     "duration": 0.00513,
     "end_time": "2025-03-25T18:30:46.243732",
     "exception": false,
     "start_time": "2025-03-25T18:30:46.238602",
     "status": "completed"
    },
    "tags": []
   },
   "source": [
    "Try adding another line of code in the cell above and re-running it. \n",
    "\n",
    "Now let's get a little fancier:  Add a new code cell by clicking on an existing code cell, hitting the escape key, and then hitting the `a` or `b` key.  The `a` key will add a cell above the current cell, and `b` adds a cell below.\n",
    "\n",
    "Great! Now you know how to use Notebooks.\n",
    "\n",
    "Each hands-on exercise starts by setting up our feedback and code checking mechanism. Run the code cell below to do that. Then you'll be ready to move on to question 0."
   ]
  },
  {
   "cell_type": "code",
   "execution_count": 2,
   "id": "fe485745",
   "metadata": {
    "_kg_hide-input": true,
    "_kg_hide-output": true,
    "execution": {
     "iopub.execute_input": "2025-03-25T18:30:46.255716Z",
     "iopub.status.busy": "2025-03-25T18:30:46.255324Z",
     "iopub.status.idle": "2025-03-25T18:30:47.194371Z",
     "shell.execute_reply": "2025-03-25T18:30:47.193301Z"
    },
    "papermill": {
     "duration": 0.947178,
     "end_time": "2025-03-25T18:30:47.196401",
     "exception": false,
     "start_time": "2025-03-25T18:30:46.249223",
     "status": "completed"
    },
    "tags": []
   },
   "outputs": [
    {
     "name": "stdout",
     "output_type": "stream",
     "text": [
      "Setup complete! You're ready to start question 0.\n"
     ]
    }
   ],
   "source": [
    "from learntools.core import binder; binder.bind(globals())\n",
    "from learntools.python.ex1 import *\n",
    "print(\"Setup complete! You're ready to start question 0.\")"
   ]
  },
  {
   "cell_type": "markdown",
   "id": "e48f406b",
   "metadata": {
    "papermill": {
     "duration": 0.006186,
     "end_time": "2025-03-25T18:30:47.213053",
     "exception": false,
     "start_time": "2025-03-25T18:30:47.206867",
     "status": "completed"
    },
    "tags": []
   },
   "source": [
    "# 0.\n",
    "\n",
    "*This is a silly question intended as an introduction to the format we use for hands-on exercises throughout all Kaggle courses.*\n",
    "\n",
    "**What is your favorite color? **\n",
    "\n",
    "To complete this question, create a variable called `color` in the cell below with an appropriate value. The function call `q0.check()` (which we've already provided in the cell below) will check your answer."
   ]
  },
  {
   "cell_type": "code",
   "execution_count": 3,
   "id": "111f4b42",
   "metadata": {
    "execution": {
     "iopub.execute_input": "2025-03-25T18:30:47.225719Z",
     "iopub.status.busy": "2025-03-25T18:30:47.225094Z",
     "iopub.status.idle": "2025-03-25T18:30:47.234562Z",
     "shell.execute_reply": "2025-03-25T18:30:47.233626Z"
    },
    "papermill": {
     "duration": 0.017409,
     "end_time": "2025-03-25T18:30:47.236053",
     "exception": false,
     "start_time": "2025-03-25T18:30:47.218644",
     "status": "completed"
    },
    "tags": []
   },
   "outputs": [
    {
     "data": {
      "application/javascript": [
       "parent.postMessage({\"jupyterEvent\": \"custom.exercise_interaction\", \"data\": {\"outcomeType\": 1, \"valueTowardsCompletion\": 0.25, \"interactionType\": 1, \"questionType\": 2, \"questionId\": \"0_ExerciseFormatTutorial\", \"learnToolsVersion\": \"0.3.4\", \"failureMessage\": \"\", \"exceptionClass\": \"\", \"trace\": \"\"}}, \"*\")"
      ],
      "text/plain": [
       "<IPython.core.display.Javascript object>"
      ]
     },
     "metadata": {},
     "output_type": "display_data"
    },
    {
     "data": {
      "text/markdown": [
       "<span style=\"color:#33cc33\">Correct:</span> What?! You got it right without needing a hint or anything? Drats. Well hey, you should still continue to the next step to get some practice asking for a hint and checking solutions. (Even though you obviously don't need any help here.)"
      ],
      "text/plain": [
       "Correct: What?! You got it right without needing a hint or anything? Drats. Well hey, you should still continue to the next step to get some practice asking for a hint and checking solutions. (Even though you obviously don't need any help here.)"
      ]
     },
     "metadata": {},
     "output_type": "display_data"
    }
   ],
   "source": [
    "# create a variable called color with an appropriate value on the line below\n",
    "# (Remember, strings in Python must be enclosed in 'single' or \"double\" quotes)\n",
    "color = 'Blue'\n",
    "\n",
    "# Check your answer\n",
    "q0.check()\n"
   ]
  },
  {
   "cell_type": "markdown",
   "id": "3ec2b49a",
   "metadata": {
    "papermill": {
     "duration": 0.005499,
     "end_time": "2025-03-25T18:30:47.247473",
     "exception": false,
     "start_time": "2025-03-25T18:30:47.241974",
     "status": "completed"
    },
    "tags": []
   },
   "source": [
    "Didn't get the right answer? How do you not even know your own favorite color?!\n",
    "\n",
    "Delete the `#` in the line below to make one of the lines run. You can choose between getting a hint or the full answer by choosing which line to remove the `#` from. \n",
    "\n",
    "Removing the `#` is called uncommenting, because it changes that line from a \"comment\" which Python doesn't run to code, which Python does run."
   ]
  },
  {
   "cell_type": "code",
   "execution_count": 4,
   "id": "0610cc78",
   "metadata": {
    "execution": {
     "iopub.execute_input": "2025-03-25T18:30:47.260456Z",
     "iopub.status.busy": "2025-03-25T18:30:47.259987Z",
     "iopub.status.idle": "2025-03-25T18:30:47.271514Z",
     "shell.execute_reply": "2025-03-25T18:30:47.270562Z"
    },
    "papermill": {
     "duration": 0.01973,
     "end_time": "2025-03-25T18:30:47.273003",
     "exception": false,
     "start_time": "2025-03-25T18:30:47.253273",
     "status": "completed"
    },
    "tags": []
   },
   "outputs": [
    {
     "data": {
      "application/javascript": [
       "parent.postMessage({\"jupyterEvent\": \"custom.exercise_interaction\", \"data\": {\"interactionType\": 2, \"questionType\": 2, \"questionId\": \"0_ExerciseFormatTutorial\", \"learnToolsVersion\": \"0.3.4\", \"valueTowardsCompletion\": 0.0, \"failureMessage\": \"\", \"exceptionClass\": \"\", \"trace\": \"\", \"outcomeType\": 4}}, \"*\")"
      ],
      "text/plain": [
       "<IPython.core.display.Javascript object>"
      ]
     },
     "metadata": {},
     "output_type": "display_data"
    },
    {
     "data": {
      "text/markdown": [
       "<span style=\"color:#3366cc\">Hint:</span> Your favorite color rhymes with *glue*."
      ],
      "text/plain": [
       "Hint: Your favorite color rhymes with *glue*."
      ]
     },
     "metadata": {},
     "output_type": "display_data"
    },
    {
     "data": {
      "application/javascript": [
       "parent.postMessage({\"jupyterEvent\": \"custom.exercise_interaction\", \"data\": {\"interactionType\": 3, \"questionType\": 2, \"questionId\": \"0_ExerciseFormatTutorial\", \"learnToolsVersion\": \"0.3.4\", \"valueTowardsCompletion\": 0.0, \"failureMessage\": \"\", \"exceptionClass\": \"\", \"trace\": \"\", \"outcomeType\": 4}}, \"*\")"
      ],
      "text/plain": [
       "<IPython.core.display.Javascript object>"
      ]
     },
     "metadata": {},
     "output_type": "display_data"
    },
    {
     "data": {
      "text/markdown": [
       "<span style=\"color:#33cc99\">Solution:</span> \n",
       "```python\n",
       "color = \"blue\"\n",
       "```"
      ],
      "text/plain": [
       "Solution: \n",
       "```python\n",
       "color = \"blue\"\n",
       "```"
      ]
     },
     "metadata": {},
     "output_type": "display_data"
    }
   ],
   "source": [
    "q0.hint()\n",
    "q0.solution()"
   ]
  },
  {
   "cell_type": "markdown",
   "id": "864db06c",
   "metadata": {
    "papermill": {
     "duration": 0.005981,
     "end_time": "2025-03-25T18:30:47.285369",
     "exception": false,
     "start_time": "2025-03-25T18:30:47.279388",
     "status": "completed"
    },
    "tags": []
   },
   "source": [
    "The upcoming questions work the same way. The only thing that will change are the question numbers. For the next question, you'll call `q1.check()`, `q1.hint()`, `q1.solution()`, for question 2, you'll call `q2.check()`, and so on."
   ]
  },
  {
   "cell_type": "markdown",
   "id": "db4d902e",
   "metadata": {
    "papermill": {
     "duration": 0.005783,
     "end_time": "2025-03-25T18:30:47.297253",
     "exception": false,
     "start_time": "2025-03-25T18:30:47.291470",
     "status": "completed"
    },
    "tags": []
   },
   "source": [
    "<hr/>\n",
    "\n",
    "# 1.\n",
    "\n",
    "Complete the code below. In case it's helpful, here is the table of available arithmetic operations:\n",
    "\n",
    "\n",
    "\n",
    "| Operator     | Name           | Description                                            |\n",
    "|--------------|----------------|--------------------------------------------------------|\n",
    "| ``a + b``    | Addition       | Sum of ``a`` and ``b``                                 |\n",
    "| ``a - b``    | Subtraction    | Difference of ``a`` and ``b``                          |\n",
    "| ``a * b``    | Multiplication | Product of ``a`` and ``b``                             |\n",
    "| ``a / b``    | True division  | Quotient of ``a`` and ``b``                            |\n",
    "| ``a // b``   | Floor division | Quotient of ``a`` and ``b``, removing fractional parts |\n",
    "| ``a % b``    | Modulus        | Integer remainder after division of ``a`` by ``b``     |\n",
    "| ``a ** b``   | Exponentiation | ``a`` raised to the power of ``b``                     |\n",
    "| ``-a``       | Negation       | The negative of ``a``                                  |\n",
    "\n",
    "<span style=\"display:none\"></span>\n"
   ]
  },
  {
   "cell_type": "code",
   "execution_count": 5,
   "id": "10c601ce",
   "metadata": {
    "execution": {
     "iopub.execute_input": "2025-03-25T18:30:47.310627Z",
     "iopub.status.busy": "2025-03-25T18:30:47.310181Z",
     "iopub.status.idle": "2025-03-25T18:30:47.318977Z",
     "shell.execute_reply": "2025-03-25T18:30:47.318068Z"
    },
    "papermill": {
     "duration": 0.017359,
     "end_time": "2025-03-25T18:30:47.320658",
     "exception": false,
     "start_time": "2025-03-25T18:30:47.303299",
     "status": "completed"
    },
    "tags": []
   },
   "outputs": [
    {
     "data": {
      "application/javascript": [
       "parent.postMessage({\"jupyterEvent\": \"custom.exercise_interaction\", \"data\": {\"outcomeType\": 1, \"valueTowardsCompletion\": 0.25, \"interactionType\": 1, \"questionType\": 1, \"questionId\": \"1_CircleArea\", \"learnToolsVersion\": \"0.3.4\", \"failureMessage\": \"\", \"exceptionClass\": \"\", \"trace\": \"\"}}, \"*\")"
      ],
      "text/plain": [
       "<IPython.core.display.Javascript object>"
      ]
     },
     "metadata": {},
     "output_type": "display_data"
    },
    {
     "data": {
      "text/markdown": [
       "<span style=\"color:#33cc33\">Correct</span>"
      ],
      "text/plain": [
       "Correct"
      ]
     },
     "metadata": {},
     "output_type": "display_data"
    }
   ],
   "source": [
    "pi = 3.14159 # approximate\n",
    "diameter = 3\n",
    "\n",
    "# Create a variable called 'radius' equal to half the diameter\n",
    "radius = diameter/2\n",
    "\n",
    "# Create a variable called 'area', using the formula for the area of a circle: pi times the radius squared\n",
    "area = pi*radius**2\n",
    "\n",
    "# Check your answer\n",
    "q1.check()"
   ]
  },
  {
   "cell_type": "code",
   "execution_count": 6,
   "id": "106dc96d",
   "metadata": {
    "execution": {
     "iopub.execute_input": "2025-03-25T18:30:47.334694Z",
     "iopub.status.busy": "2025-03-25T18:30:47.334355Z",
     "iopub.status.idle": "2025-03-25T18:30:47.341604Z",
     "shell.execute_reply": "2025-03-25T18:30:47.340590Z"
    },
    "papermill": {
     "duration": 0.016033,
     "end_time": "2025-03-25T18:30:47.343118",
     "exception": false,
     "start_time": "2025-03-25T18:30:47.327085",
     "status": "completed"
    },
    "tags": []
   },
   "outputs": [
    {
     "data": {
      "application/javascript": [
       "parent.postMessage({\"jupyterEvent\": \"custom.exercise_interaction\", \"data\": {\"interactionType\": 3, \"questionType\": 1, \"questionId\": \"1_CircleArea\", \"learnToolsVersion\": \"0.3.4\", \"valueTowardsCompletion\": 0.0, \"failureMessage\": \"\", \"exceptionClass\": \"\", \"trace\": \"\", \"outcomeType\": 4}}, \"*\")"
      ],
      "text/plain": [
       "<IPython.core.display.Javascript object>"
      ]
     },
     "metadata": {},
     "output_type": "display_data"
    },
    {
     "data": {
      "text/markdown": [
       "<span style=\"color:#33cc99\">Solution:</span> \n",
       "```python\n",
       "radius = diameter / 2\n",
       "area = pi * radius ** 2\n",
       "```"
      ],
      "text/plain": [
       "Solution: \n",
       "```python\n",
       "radius = diameter / 2\n",
       "area = pi * radius ** 2\n",
       "```"
      ]
     },
     "metadata": {},
     "output_type": "display_data"
    }
   ],
   "source": [
    "# Uncomment and run the lines below if you need help.\n",
    "#q1.hint()\n",
    "q1.solution()"
   ]
  },
  {
   "cell_type": "markdown",
   "id": "2fadd030",
   "metadata": {
    "papermill": {
     "duration": 0.006268,
     "end_time": "2025-03-25T18:30:47.356118",
     "exception": false,
     "start_time": "2025-03-25T18:30:47.349850",
     "status": "completed"
    },
    "tags": []
   },
   "source": [
    "<hr/>\n",
    "\n",
    "# 2.\n",
    "\n",
    "Add code to the following cell to swap variables `a` and `b` (so that `a` refers to the object previously referred to by `b` and vice versa)."
   ]
  },
  {
   "cell_type": "code",
   "execution_count": 7,
   "id": "e43e6ed5",
   "metadata": {
    "execution": {
     "iopub.execute_input": "2025-03-25T18:30:47.370365Z",
     "iopub.status.busy": "2025-03-25T18:30:47.370008Z",
     "iopub.status.idle": "2025-03-25T18:30:47.378291Z",
     "shell.execute_reply": "2025-03-25T18:30:47.377305Z"
    },
    "papermill": {
     "duration": 0.016982,
     "end_time": "2025-03-25T18:30:47.379738",
     "exception": false,
     "start_time": "2025-03-25T18:30:47.362756",
     "status": "completed"
    },
    "tags": []
   },
   "outputs": [
    {
     "data": {
      "application/javascript": [
       "parent.postMessage({\"jupyterEvent\": \"custom.exercise_interaction\", \"data\": {\"outcomeType\": 1, \"valueTowardsCompletion\": 0.25, \"interactionType\": 1, \"questionType\": 2, \"questionId\": \"2_VariableSwap\", \"learnToolsVersion\": \"0.3.4\", \"failureMessage\": \"\", \"exceptionClass\": \"\", \"trace\": \"\"}}, \"*\")"
      ],
      "text/plain": [
       "<IPython.core.display.Javascript object>"
      ]
     },
     "metadata": {},
     "output_type": "display_data"
    },
    {
     "data": {
      "text/markdown": [
       "<span style=\"color:#33cc33\">Correct:</span> \n",
       "\n",
       "The most straightforward solution is to use a third variable to temporarily store one of the old values. e.g.:\n",
       "\n",
       "    tmp = a\n",
       "    a = b\n",
       "    b = tmp\n",
       "\n",
       "If you've read lots of Python code, you might have seen the following trick to swap two variables in one line:\n",
       "\n",
       "    a, b = b, a\n",
       "\n",
       "We'll demystify this bit of Python magic later when we talk about *tuples*."
      ],
      "text/plain": [
       "Correct: \n",
       "\n",
       "The most straightforward solution is to use a third variable to temporarily store one of the old values. e.g.:\n",
       "\n",
       "    tmp = a\n",
       "    a = b\n",
       "    b = tmp\n",
       "\n",
       "If you've read lots of Python code, you might have seen the following trick to swap two variables in one line:\n",
       "\n",
       "    a, b = b, a\n",
       "\n",
       "We'll demystify this bit of Python magic later when we talk about *tuples*."
      ]
     },
     "metadata": {},
     "output_type": "display_data"
    }
   ],
   "source": [
    "########### Setup code - don't touch this part ######################\n",
    "# If you're curious, these are examples of lists. We'll talk about \n",
    "# them in depth a few lessons from now. For now, just know that they're\n",
    "# yet another type of Python object, like int or float.\n",
    "a = [1, 2, 3]\n",
    "b = [3, 2, 1]\n",
    "\n",
    "q2.store_original_ids()\n",
    "######################################################################\n",
    "\n",
    "# Your code goes here. Swap the values to which a and b refer.\n",
    "# If you get stuck, you can always uncomment one or both of the lines in\n",
    "# the next cell for a hint, or to peek at the solution.\n",
    "c=a\n",
    "a=b\n",
    "b=c\n",
    "\n",
    "######################################################################\n",
    "\n",
    "# Check your answer\n",
    "q2.check()"
   ]
  },
  {
   "cell_type": "code",
   "execution_count": 8,
   "id": "5df49e17",
   "metadata": {
    "execution": {
     "iopub.execute_input": "2025-03-25T18:30:47.394537Z",
     "iopub.status.busy": "2025-03-25T18:30:47.394178Z",
     "iopub.status.idle": "2025-03-25T18:30:47.401302Z",
     "shell.execute_reply": "2025-03-25T18:30:47.400304Z"
    },
    "papermill": {
     "duration": 0.016228,
     "end_time": "2025-03-25T18:30:47.402796",
     "exception": false,
     "start_time": "2025-03-25T18:30:47.386568",
     "status": "completed"
    },
    "tags": []
   },
   "outputs": [
    {
     "data": {
      "application/javascript": [
       "parent.postMessage({\"jupyterEvent\": \"custom.exercise_interaction\", \"data\": {\"interactionType\": 2, \"questionType\": 2, \"questionId\": \"2_VariableSwap\", \"learnToolsVersion\": \"0.3.4\", \"valueTowardsCompletion\": 0.0, \"failureMessage\": \"\", \"exceptionClass\": \"\", \"trace\": \"\", \"outcomeType\": 4}}, \"*\")"
      ],
      "text/plain": [
       "<IPython.core.display.Javascript object>"
      ]
     },
     "metadata": {},
     "output_type": "display_data"
    },
    {
     "data": {
      "text/markdown": [
       "<span style=\"color:#3366cc\">Hint:</span> Try using a third variable."
      ],
      "text/plain": [
       "Hint: Try using a third variable."
      ]
     },
     "metadata": {},
     "output_type": "display_data"
    }
   ],
   "source": [
    "q2.hint()"
   ]
  },
  {
   "cell_type": "code",
   "execution_count": 9,
   "id": "f67dee68",
   "metadata": {
    "execution": {
     "iopub.execute_input": "2025-03-25T18:30:47.418139Z",
     "iopub.status.busy": "2025-03-25T18:30:47.417837Z",
     "iopub.status.idle": "2025-03-25T18:30:47.425054Z",
     "shell.execute_reply": "2025-03-25T18:30:47.423991Z"
    },
    "papermill": {
     "duration": 0.016976,
     "end_time": "2025-03-25T18:30:47.426920",
     "exception": false,
     "start_time": "2025-03-25T18:30:47.409944",
     "status": "completed"
    },
    "tags": []
   },
   "outputs": [
    {
     "data": {
      "application/javascript": [
       "parent.postMessage({\"jupyterEvent\": \"custom.exercise_interaction\", \"data\": {\"interactionType\": 3, \"questionType\": 2, \"questionId\": \"2_VariableSwap\", \"learnToolsVersion\": \"0.3.4\", \"valueTowardsCompletion\": 0.0, \"failureMessage\": \"\", \"exceptionClass\": \"\", \"trace\": \"\", \"outcomeType\": 4}}, \"*\")"
      ],
      "text/plain": [
       "<IPython.core.display.Javascript object>"
      ]
     },
     "metadata": {},
     "output_type": "display_data"
    },
    {
     "data": {
      "text/markdown": [
       "<span style=\"color:#33cc99\">Solution:</span> The most straightforward solution is to use a third variable to temporarily store one of the old values. e.g.:\n",
       "\n",
       "    tmp = a\n",
       "    a = b\n",
       "    b = tmp\n",
       "\n",
       "If you've read lots of Python code, you might have seen the following trick to swap two variables in one line:\n",
       "\n",
       "    a, b = b, a\n",
       "\n",
       "We'll demystify this bit of Python magic later when we talk about *tuples*."
      ],
      "text/plain": [
       "Solution: The most straightforward solution is to use a third variable to temporarily store one of the old values. e.g.:\n",
       "\n",
       "    tmp = a\n",
       "    a = b\n",
       "    b = tmp\n",
       "\n",
       "If you've read lots of Python code, you might have seen the following trick to swap two variables in one line:\n",
       "\n",
       "    a, b = b, a\n",
       "\n",
       "We'll demystify this bit of Python magic later when we talk about *tuples*."
      ]
     },
     "metadata": {},
     "output_type": "display_data"
    }
   ],
   "source": [
    "q2.solution()"
   ]
  },
  {
   "cell_type": "markdown",
   "id": "62599c8c",
   "metadata": {
    "papermill": {
     "duration": 0.007366,
     "end_time": "2025-03-25T18:30:47.442121",
     "exception": false,
     "start_time": "2025-03-25T18:30:47.434755",
     "status": "completed"
    },
    "tags": []
   },
   "source": [
    "<hr/>\n",
    "\n",
    "# 3a.\n",
    "\n",
    "Add parentheses to the following expression so that it evaluates to 1."
   ]
  },
  {
   "cell_type": "code",
   "execution_count": 10,
   "id": "bd725069",
   "metadata": {
    "execution": {
     "iopub.execute_input": "2025-03-25T18:30:47.460521Z",
     "iopub.status.busy": "2025-03-25T18:30:47.460146Z",
     "iopub.status.idle": "2025-03-25T18:30:47.465520Z",
     "shell.execute_reply": "2025-03-25T18:30:47.464651Z"
    },
    "papermill": {
     "duration": 0.01533,
     "end_time": "2025-03-25T18:30:47.466899",
     "exception": false,
     "start_time": "2025-03-25T18:30:47.451569",
     "status": "completed"
    },
    "tags": []
   },
   "outputs": [
    {
     "data": {
      "text/plain": [
       "1"
      ]
     },
     "execution_count": 10,
     "metadata": {},
     "output_type": "execute_result"
    }
   ],
   "source": [
    "(5 - 3) // 2"
   ]
  },
  {
   "cell_type": "code",
   "execution_count": 11,
   "id": "fc241ea0",
   "metadata": {
    "execution": {
     "iopub.execute_input": "2025-03-25T18:30:47.482774Z",
     "iopub.status.busy": "2025-03-25T18:30:47.482449Z",
     "iopub.status.idle": "2025-03-25T18:30:47.485992Z",
     "shell.execute_reply": "2025-03-25T18:30:47.485084Z"
    },
    "papermill": {
     "duration": 0.013372,
     "end_time": "2025-03-25T18:30:47.487580",
     "exception": false,
     "start_time": "2025-03-25T18:30:47.474208",
     "status": "completed"
    },
    "tags": []
   },
   "outputs": [],
   "source": [
    "#q3.a.hint()"
   ]
  },
  {
   "cell_type": "code",
   "execution_count": 12,
   "id": "39b0f06d",
   "metadata": {
    "execution": {
     "iopub.execute_input": "2025-03-25T18:30:47.503721Z",
     "iopub.status.busy": "2025-03-25T18:30:47.503401Z",
     "iopub.status.idle": "2025-03-25T18:30:47.510225Z",
     "shell.execute_reply": "2025-03-25T18:30:47.509324Z"
    },
    "papermill": {
     "duration": 0.016711,
     "end_time": "2025-03-25T18:30:47.511851",
     "exception": false,
     "start_time": "2025-03-25T18:30:47.495140",
     "status": "completed"
    },
    "tags": []
   },
   "outputs": [
    {
     "data": {
      "application/javascript": [
       "parent.postMessage({\"jupyterEvent\": \"custom.exercise_interaction\", \"data\": {\"interactionType\": 3, \"questionType\": 4, \"questionId\": \"3.1_ArithmeticParensEasy\", \"learnToolsVersion\": \"0.3.4\", \"valueTowardsCompletion\": 0.0, \"failureMessage\": \"\", \"exceptionClass\": \"\", \"trace\": \"\", \"outcomeType\": 4}}, \"*\")"
      ],
      "text/plain": [
       "<IPython.core.display.Javascript object>"
      ]
     },
     "metadata": {},
     "output_type": "display_data"
    },
    {
     "data": {
      "text/markdown": [
       "<span style=\"color:#33cc99\">Solution:</span> \n",
       "```python\n",
       "(5 - 3) // 2\n",
       "```"
      ],
      "text/plain": [
       "Solution: \n",
       "```python\n",
       "(5 - 3) // 2\n",
       "```"
      ]
     },
     "metadata": {},
     "output_type": "display_data"
    }
   ],
   "source": [
    "# Check your answer (Run this code cell to receive credit!)\n",
    "q3.a.solution()"
   ]
  },
  {
   "cell_type": "markdown",
   "id": "7fcc7d73",
   "metadata": {
    "papermill": {
     "duration": 0.007187,
     "end_time": "2025-03-25T18:30:47.526796",
     "exception": false,
     "start_time": "2025-03-25T18:30:47.519609",
     "status": "completed"
    },
    "tags": []
   },
   "source": [
    "# 3b.  <span title=\"A bit spicy\" style=\"color: darkgreen \">🌶️</span>\n",
    "\n",
    "<small>Questions, like this one, marked a spicy pepper are a bit harder.</small>\n",
    "\n",
    "Add parentheses to the following expression so that it evaluates to 0."
   ]
  },
  {
   "cell_type": "code",
   "execution_count": 13,
   "id": "05f8169b",
   "metadata": {
    "execution": {
     "iopub.execute_input": "2025-03-25T18:30:47.543160Z",
     "iopub.status.busy": "2025-03-25T18:30:47.542847Z",
     "iopub.status.idle": "2025-03-25T18:30:47.548103Z",
     "shell.execute_reply": "2025-03-25T18:30:47.547210Z"
    },
    "papermill": {
     "duration": 0.015267,
     "end_time": "2025-03-25T18:30:47.549651",
     "exception": false,
     "start_time": "2025-03-25T18:30:47.534384",
     "status": "completed"
    },
    "tags": []
   },
   "outputs": [
    {
     "data": {
      "text/plain": [
       "0"
      ]
     },
     "execution_count": 13,
     "metadata": {},
     "output_type": "execute_result"
    }
   ],
   "source": [
    "(8 - 3) * (2 - (1 + 1))"
   ]
  },
  {
   "cell_type": "code",
   "execution_count": 14,
   "id": "346125a0",
   "metadata": {
    "execution": {
     "iopub.execute_input": "2025-03-25T18:30:47.565909Z",
     "iopub.status.busy": "2025-03-25T18:30:47.565605Z",
     "iopub.status.idle": "2025-03-25T18:30:47.572456Z",
     "shell.execute_reply": "2025-03-25T18:30:47.571585Z"
    },
    "papermill": {
     "duration": 0.016659,
     "end_time": "2025-03-25T18:30:47.573999",
     "exception": false,
     "start_time": "2025-03-25T18:30:47.557340",
     "status": "completed"
    },
    "tags": []
   },
   "outputs": [
    {
     "data": {
      "application/javascript": [
       "parent.postMessage({\"jupyterEvent\": \"custom.exercise_interaction\", \"data\": {\"interactionType\": 2, \"questionType\": 4, \"questionId\": \"3.2_ArithmeticParensHard\", \"learnToolsVersion\": \"0.3.4\", \"valueTowardsCompletion\": 0.0, \"failureMessage\": \"\", \"exceptionClass\": \"\", \"trace\": \"\", \"outcomeType\": 4}}, \"*\")"
      ],
      "text/plain": [
       "<IPython.core.display.Javascript object>"
      ]
     },
     "metadata": {},
     "output_type": "display_data"
    },
    {
     "data": {
      "text/markdown": [
       "<span style=\"color:#3366cc\">Hint:</span> You may need to use several pairs of parentheses."
      ],
      "text/plain": [
       "Hint: You may need to use several pairs of parentheses."
      ]
     },
     "metadata": {},
     "output_type": "display_data"
    }
   ],
   "source": [
    "q3.b.hint()"
   ]
  },
  {
   "cell_type": "code",
   "execution_count": 15,
   "id": "581702bb",
   "metadata": {
    "execution": {
     "iopub.execute_input": "2025-03-25T18:30:47.591061Z",
     "iopub.status.busy": "2025-03-25T18:30:47.590749Z",
     "iopub.status.idle": "2025-03-25T18:30:47.597229Z",
     "shell.execute_reply": "2025-03-25T18:30:47.596453Z"
    },
    "papermill": {
     "duration": 0.016773,
     "end_time": "2025-03-25T18:30:47.598754",
     "exception": false,
     "start_time": "2025-03-25T18:30:47.581981",
     "status": "completed"
    },
    "tags": []
   },
   "outputs": [
    {
     "data": {
      "application/javascript": [
       "parent.postMessage({\"jupyterEvent\": \"custom.exercise_interaction\", \"data\": {\"interactionType\": 3, \"questionType\": 4, \"questionId\": \"3.2_ArithmeticParensHard\", \"learnToolsVersion\": \"0.3.4\", \"valueTowardsCompletion\": 0.0, \"failureMessage\": \"\", \"exceptionClass\": \"\", \"trace\": \"\", \"outcomeType\": 4}}, \"*\")"
      ],
      "text/plain": [
       "<IPython.core.display.Javascript object>"
      ]
     },
     "metadata": {},
     "output_type": "display_data"
    },
    {
     "data": {
      "text/markdown": [
       "<span style=\"color:#33cc99\">Solution:</span> `(8 - 3) * (2 - (1 + 1))` is one solution. There may be others."
      ],
      "text/plain": [
       "Solution: `(8 - 3) * (2 - (1 + 1))` is one solution. There may be others."
      ]
     },
     "metadata": {},
     "output_type": "display_data"
    }
   ],
   "source": [
    " #Check your answer (Run this code cell to receive credit!)\n",
    "q3.b.solution()"
   ]
  },
  {
   "cell_type": "markdown",
   "id": "0ed07192",
   "metadata": {
    "papermill": {
     "duration": 0.008031,
     "end_time": "2025-03-25T18:30:47.615182",
     "exception": false,
     "start_time": "2025-03-25T18:30:47.607151",
     "status": "completed"
    },
    "tags": []
   },
   "source": [
    "<hr/>\n",
    "\n",
    "# 4. \n",
    "Alice, Bob and Carol have agreed to pool their Halloween candy and split it evenly among themselves.\n",
    "For the sake of their friendship, any candies left over will be smashed. For example, if they collectively\n",
    "bring home 91 candies, they'll take 30 each and smash 1.\n",
    "\n",
    "Write an arithmetic expression below to calculate how many candies they must smash for a given haul."
   ]
  },
  {
   "cell_type": "code",
   "execution_count": 16,
   "id": "4082db02",
   "metadata": {
    "execution": {
     "iopub.execute_input": "2025-03-25T18:30:47.632695Z",
     "iopub.status.busy": "2025-03-25T18:30:47.632342Z",
     "iopub.status.idle": "2025-03-25T18:30:47.639759Z",
     "shell.execute_reply": "2025-03-25T18:30:47.638790Z"
    },
    "papermill": {
     "duration": 0.018043,
     "end_time": "2025-03-25T18:30:47.641481",
     "exception": false,
     "start_time": "2025-03-25T18:30:47.623438",
     "status": "completed"
    },
    "tags": []
   },
   "outputs": [
    {
     "data": {
      "application/javascript": [
       "parent.postMessage({\"jupyterEvent\": \"custom.exercise_interaction\", \"data\": {\"outcomeType\": 1, \"valueTowardsCompletion\": 0.25, \"interactionType\": 1, \"questionType\": 1, \"questionId\": \"4_CandySplitting\", \"learnToolsVersion\": \"0.3.4\", \"failureMessage\": \"\", \"exceptionClass\": \"\", \"trace\": \"\"}}, \"*\")"
      ],
      "text/plain": [
       "<IPython.core.display.Javascript object>"
      ]
     },
     "metadata": {},
     "output_type": "display_data"
    },
    {
     "data": {
      "text/markdown": [
       "<span style=\"color:#33cc33\">Correct</span>"
      ],
      "text/plain": [
       "Correct"
      ]
     },
     "metadata": {},
     "output_type": "display_data"
    }
   ],
   "source": [
    "# Variables representing the number of candies collected by alice, bob, and carol\n",
    "alice_candies = 121\n",
    "bob_candies = 77\n",
    "carol_candies = 109\n",
    "\n",
    "# Your code goes here! Replace the right-hand side of this assignment with an expression\n",
    "# involving alice_candies, bob_candies, and carol_candies\n",
    "to_smash = (alice_candies+bob_candies+carol_candies)%3\n",
    "\n",
    "# Check your answer\n",
    "q4.check()"
   ]
  },
  {
   "cell_type": "code",
   "execution_count": 17,
   "id": "b4c4ba8e",
   "metadata": {
    "execution": {
     "iopub.execute_input": "2025-03-25T18:30:47.659428Z",
     "iopub.status.busy": "2025-03-25T18:30:47.659044Z",
     "iopub.status.idle": "2025-03-25T18:30:47.662672Z",
     "shell.execute_reply": "2025-03-25T18:30:47.661716Z"
    },
    "papermill": {
     "duration": 0.014374,
     "end_time": "2025-03-25T18:30:47.664348",
     "exception": false,
     "start_time": "2025-03-25T18:30:47.649974",
     "status": "completed"
    },
    "tags": []
   },
   "outputs": [],
   "source": [
    "#q4.hint()\n",
    "#q4.solution()"
   ]
  },
  {
   "cell_type": "markdown",
   "id": "9648a053",
   "metadata": {
    "papermill": {
     "duration": 0.007976,
     "end_time": "2025-03-25T18:30:47.680832",
     "exception": false,
     "start_time": "2025-03-25T18:30:47.672856",
     "status": "completed"
    },
    "tags": []
   },
   "source": [
    "# Keep Going\n",
    "\n",
    "Next up, you'll **[learn to write new functions and understand functions others write](https://www.kaggle.com/colinmorris/functions-and-getting-help)**. This will make you at least 10 times more productive as a Python programmer. "
   ]
  },
  {
   "cell_type": "markdown",
   "id": "8e38bcbe",
   "metadata": {
    "papermill": {
     "duration": 0.007874,
     "end_time": "2025-03-25T18:30:47.696885",
     "exception": false,
     "start_time": "2025-03-25T18:30:47.689011",
     "status": "completed"
    },
    "tags": []
   },
   "source": [
    "---\n",
    "\n",
    "\n",
    "\n",
    "\n",
    "*Have questions or comments? Visit the [course discussion forum](https://www.kaggle.com/learn/python/discussion) to chat with other learners.*"
   ]
  }
 ],
 "metadata": {
  "kaggle": {
   "accelerator": "none",
   "dataSources": [],
   "isGpuEnabled": false,
   "isInternetEnabled": false,
   "language": "python",
   "sourceType": "notebook"
  },
  "kernelspec": {
   "display_name": "Python 3",
   "language": "python",
   "name": "python3"
  },
  "language_info": {
   "codemirror_mode": {
    "name": "ipython",
    "version": 3
   },
   "file_extension": ".py",
   "mimetype": "text/x-python",
   "name": "python",
   "nbconvert_exporter": "python",
   "pygments_lexer": "ipython3",
   "version": "3.10.12"
  },
  "learntools_metadata": {
   "lesson_index": 0,
   "type": "exercise"
  },
  "papermill": {
   "default_parameters": {},
   "duration": 4.723901,
   "end_time": "2025-03-25T18:30:48.225206",
   "environment_variables": {},
   "exception": null,
   "input_path": "__notebook__.ipynb",
   "output_path": "__notebook__.ipynb",
   "parameters": {},
   "start_time": "2025-03-25T18:30:43.501305",
   "version": "2.6.0"
  }
 },
 "nbformat": 4,
 "nbformat_minor": 5
}
